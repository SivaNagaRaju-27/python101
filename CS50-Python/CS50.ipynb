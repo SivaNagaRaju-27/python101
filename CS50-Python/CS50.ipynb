{
 "cells": [
  {
   "cell_type": "markdown",
   "id": "a024b514-c3cc-4409-a337-a26c0ff8d51f",
   "metadata": {},
   "source": [
    "**Introduction**\n",
    "->This Section Contains Sample Programs"
   ]
  },
  {
   "cell_type": "code",
   "execution_count": 1,
   "id": "fcaa1120-6bd9-4345-85eb-742a5123243d",
   "metadata": {},
   "outputs": [
    {
     "name": "stdout",
     "output_type": "stream",
     "text": [
      "Hello World\n"
     ]
    }
   ],
   "source": [
    "print(\"Hello World\")"
   ]
  },
  {
   "cell_type": "code",
   "execution_count": 2,
   "id": "badc66da-589f-43bc-be55-e5d12af79d03",
   "metadata": {},
   "outputs": [
    {
     "name": "stdout",
     "output_type": "stream",
     "text": [
      "5\n"
     ]
    }
   ],
   "source": [
    "print(2+3)"
   ]
  },
  {
   "cell_type": "code",
   "execution_count": 5,
   "id": "fa5bd102-cefb-4904-bf0f-aa5da91f1181",
   "metadata": {},
   "outputs": [],
   "source": [
    "#Every Function produces certain task that is either\n",
    "# 1. Producing a Side effect.\n",
    "# 2. Returning Value.\n",
    "def first_function():\n",
    "    print(\"Hello World\")\n",
    "\n",
    "# As a result of calling this function produces a Side Effect.\n",
    "# i.e., printing Hello World to the screen"
   ]
  },
  {
   "cell_type": "code",
   "execution_count": 4,
   "id": "94dd3898-45e0-4025-8dca-e4500fa9f95d",
   "metadata": {},
   "outputs": [
    {
     "name": "stdout",
     "output_type": "stream",
     "text": [
      "Hello World\n"
     ]
    }
   ],
   "source": [
    "first_function()"
   ]
  },
  {
   "cell_type": "code",
   "execution_count": 6,
   "id": "3b07fd32-deae-4fec-a6f5-9d2719b1ddc3",
   "metadata": {},
   "outputs": [],
   "source": [
    "# Returning A Value\n",
    "\n",
    "def return_a_value():\n",
    "    x = 10;\n",
    "    return x;"
   ]
  },
  {
   "cell_type": "code",
   "execution_count": 7,
   "id": "a0672a56-e056-4bdc-a053-b8ac7fdbcad0",
   "metadata": {},
   "outputs": [
    {
     "name": "stdout",
     "output_type": "stream",
     "text": [
      "10\n"
     ]
    }
   ],
   "source": [
    "y = return_a_value()\n",
    "print(y)"
   ]
  },
  {
   "cell_type": "code",
   "execution_count": 8,
   "id": "7c07dcb6-30b6-4543-86fa-1e598eee3229",
   "metadata": {},
   "outputs": [],
   "source": [
    "# You can pass values known as Arguments to functions If they take one or more\n",
    "def square(x):\n",
    "    sqr = x ** 2\n",
    "    return sqr\n",
    "    "
   ]
  },
  {
   "cell_type": "code",
   "execution_count": 9,
   "id": "48c0b88d-7991-4dd7-b05c-4359c6832e88",
   "metadata": {},
   "outputs": [
    {
     "data": {
      "text/plain": [
       "100"
      ]
     },
     "execution_count": 9,
     "metadata": {},
     "output_type": "execute_result"
    }
   ],
   "source": [
    "square(10)"
   ]
  },
  {
   "cell_type": "code",
   "execution_count": 10,
   "id": "3da94d50-5550-47e0-aaa9-ec3bec56a43c",
   "metadata": {},
   "outputs": [],
   "source": [
    "# Passing multiple arguments\n",
    "def add(x, y):\n",
    "    sum = x+y\n",
    "    return sum\n",
    "    "
   ]
  },
  {
   "cell_type": "code",
   "execution_count": 11,
   "id": "752e2148-94c7-467c-931e-d8a1f8bd0a24",
   "metadata": {},
   "outputs": [
    {
     "data": {
      "text/plain": [
       "110"
      ]
     },
     "execution_count": 11,
     "metadata": {},
     "output_type": "execute_result"
    }
   ],
   "source": [
    "add(10, 100)"
   ]
  },
  {
   "cell_type": "code",
   "execution_count": 14,
   "id": "587c90d4-b8d1-490c-be9e-3e03d5b0acdd",
   "metadata": {},
   "outputs": [],
   "source": [
    "# Here while defining function the variables in paranthesis are called \"Paramenters\"\n",
    "# print() method has several parameters in it's definition\n",
    "# print(*objects, sep = \" \", end = \"\\n\")\n",
    "\n",
    "def print_function():\n",
    "    x = 10\n",
    "    y = 20\n",
    "    z = x+y\n",
    "    print(x, y, z)\n",
    "    print(x, y, z, end = \"-----\")\n",
    "    print(x, y, z, sep = \"?\", end = \"&\\n\")\n",
    "    "
   ]
  },
  {
   "cell_type": "code",
   "execution_count": 13,
   "id": "32fd3108-ac09-4700-b185-978a34e74795",
   "metadata": {},
   "outputs": [
    {
     "name": "stdout",
     "output_type": "stream",
     "text": [
      "10 20 30\n",
      "10 20 30-----10?20?30\n"
     ]
    }
   ],
   "source": [
    "print_function()"
   ]
  },
  {
   "cell_type": "code",
   "execution_count": 15,
   "id": "c6d5bc78-5d38-4660-af3f-7677ab46aa38",
   "metadata": {},
   "outputs": [
    {
     "name": "stdout",
     "output_type": "stream",
     "text": [
      "10 20 30\n",
      "10 20 30-----10?20?30&\n"
     ]
    }
   ],
   "source": [
    "print_function()"
   ]
  },
  {
   "cell_type": "code",
   "execution_count": null,
   "id": "9f5f097d-f8dc-4953-8f0b-29d2dafe4f54",
   "metadata": {},
   "outputs": [],
   "source": [
    "# Remember:- The Order of the Arguments you pass to a function should match the Order of the Parameters of that function\n",
    "# For example\n",
    "def this_wont_work():\n",
    "    print(10, sep = \":\", 20)"
   ]
  },
  {
   "cell_type": "code",
   "execution_count": 17,
   "id": "58318c8d-ca71-4102-975b-25580d006847",
   "metadata": {},
   "outputs": [],
   "source": [
    "# In python Every this is an Object.\n",
    "# in print() syntax, it takes *objects as it's first \"Positional Argument\"\n",
    "# This means it takes \"any number\"(*) of objects\n",
    "# and we passed different number of {variables and even raw numbers}\n",
    "# all these are Objects"
   ]
  },
  {
   "cell_type": "markdown",
   "id": "ed068cc8-8bd6-4102-a311-45d0a257f131",
   "metadata": {},
   "source": [
    "**Functions And Variables**\n",
    "->Detailed view of functions and Variables"
   ]
  },
  {
   "cell_type": "markdown",
   "id": "6a884021-1dc1-4343-8ce4-780b8e5de4d4",
   "metadata": {},
   "source": [
    "1. Variables are like lables that can be assigned a value.\n",
    "2. A Function is a reusable chunk of code when you call, it returns value or produce a side effect."
   ]
  },
  {
   "cell_type": "code",
   "execution_count": 2,
   "id": "df1658f4-0896-446a-80f5-ae49941cda2d",
   "metadata": {},
   "outputs": [],
   "source": [
    "#Definition of function involve\n",
    "# 1. A keyword \"def\"\n",
    "# 2. An Identifier for the function(Name)\n",
    "# 3. Open and Colsed Paranthesis\n",
    "# 4. Optionally One or More \"Parameters\" in it.\n",
    "# 5. And Finally A colon(:)."
   ]
  },
  {
   "cell_type": "code",
   "execution_count": 4,
   "id": "545f10d9-6b0f-4fe4-b690-61169f109b49",
   "metadata": {},
   "outputs": [],
   "source": [
    "# Function Definition.\n",
    "# Indentation is Important.\n",
    "def Greetings(s):\n",
    "    print(\"Hello, \"+s)"
   ]
  },
  {
   "cell_type": "code",
   "execution_count": 5,
   "id": "4cfdd048-6a63-4f09-b63b-2086e43a30e1",
   "metadata": {},
   "outputs": [
    {
     "name": "stdout",
     "output_type": "stream",
     "text": [
      "Hello, Siva Naga Raju\n"
     ]
    }
   ],
   "source": [
    "# Function Call.\n",
    "Greetings(\"Siva Naga Raju\")"
   ]
  },
  {
   "cell_type": "code",
   "execution_count": 6,
   "id": "99536922-e70c-45eb-92c3-656ad24c8e58",
   "metadata": {},
   "outputs": [],
   "source": [
    "# In python the concept of Variable Definition doesn't Exist.\n",
    "# It Comes to Existence When you use an Identifier to store a value."
   ]
  },
  {
   "cell_type": "code",
   "execution_count": 7,
   "id": "fad3bff8-b648-42ab-9e93-f5acb710147b",
   "metadata": {},
   "outputs": [
    {
     "name": "stdout",
     "output_type": "stream",
     "text": [
      "710\n"
     ]
    }
   ],
   "source": [
    "# Creating and Using Variables.\n",
    "x = 250\n",
    "y = 460\n",
    "z = x + y\n",
    "print(z)"
   ]
  },
  {
   "cell_type": "code",
   "execution_count": 8,
   "id": "e9fe9b0f-83f1-4d88-8fd0-c14a6c95bd60",
   "metadata": {},
   "outputs": [
    {
     "name": "stdout",
     "output_type": "stream",
     "text": [
      "Hello, Siva Naga Raju\n"
     ]
    }
   ],
   "source": [
    "# Passing Variable as a parameter.\n",
    "name = \"Siva Naga Raju\"\n",
    "Greetings(name)"
   ]
  },
  {
   "cell_type": "code",
   "execution_count": 1,
   "id": "7aa74bff-fdea-4ed6-b90c-a16af6f653c9",
   "metadata": {},
   "outputs": [],
   "source": [
    "# Variable Can Store Different Types of Data.\n",
    "# 1. int(Integer)\n",
    "# 2. float(Floating Point Values)\n",
    "# 3. Str(Strings or collection of Characters)\n",
    "# 4. Bool(Boolean valuses [True, False]) et cetra."
   ]
  },
  {
   "cell_type": "code",
   "execution_count": 3,
   "id": "a998005d-d55f-4a7e-bfcd-5adbccd49f13",
   "metadata": {},
   "outputs": [
    {
     "name": "stdout",
     "output_type": "stream",
     "text": [
      "110\n",
      "1000\n",
      "0.1\n"
     ]
    }
   ],
   "source": [
    "# Storing int values:\n",
    "# to store any value just assing that value to an Identifier.\n",
    "\n",
    "x = 10 # Now x stores value 10 in it.\n",
    "y = 100\n",
    "z = x + y\n",
    "print(z)\n",
    "z = x * y\n",
    "print(z)\n",
    "z = x / y\n",
    "print(z)"
   ]
  },
  {
   "cell_type": "code",
   "execution_count": 4,
   "id": "e8c7ca38-ad92-4f91-978e-a6dceca148ae",
   "metadata": {},
   "outputs": [
    {
     "name": "stdout",
     "output_type": "stream",
     "text": [
      "200300\n",
      "200200200\n"
     ]
    }
   ],
   "source": [
    "# Storing str values:\n",
    "\n",
    "x = \"200\"\n",
    "y = \"300\"\n",
    "z = x + y\n",
    "print(z)\n",
    "z = x * 3\n",
    "print(z)"
   ]
  },
  {
   "cell_type": "code",
   "execution_count": 5,
   "id": "667ffd05-1bff-4392-911b-a3162c7a0e19",
   "metadata": {},
   "outputs": [
    {
     "name": "stdout",
     "output_type": "stream",
     "text": [
      "Siva Naga Raju\n",
      "Hello, Mr. \n",
      "Hello, Mr. Siva Naga Raju\n"
     ]
    }
   ],
   "source": [
    "x = \"Siva Naga Raju\"\n",
    "y = \"Hello, Mr. \"\n",
    "z = y + x\n",
    "print(x)\n",
    "print(y)\n",
    "print(z)"
   ]
  },
  {
   "cell_type": "code",
   "execution_count": 6,
   "id": "924ba2c8-02a6-4a7c-9392-1a965ac55b08",
   "metadata": {},
   "outputs": [
    {
     "name": "stdout",
     "output_type": "stream",
     "text": [
      "Hello, Mr. Siva Naga Raju\n"
     ]
    }
   ],
   "source": [
    "z + \" How Can I Help You.\"\n",
    "print(z)"
   ]
  },
  {
   "cell_type": "code",
   "execution_count": 7,
   "id": "befc1f6b-2644-4f57-9f32-4a505668dc52",
   "metadata": {},
   "outputs": [],
   "source": [
    "# Above code doesn't change the str value.\n",
    "# That is becuase We need to assing the new value to another variable.\n",
    "# like\n",
    "\n",
    "mssg = z + \" How Can I Help You.\""
   ]
  },
  {
   "cell_type": "code",
   "execution_count": 8,
   "id": "8caae658-5355-41fa-8ee1-c830984a62f4",
   "metadata": {},
   "outputs": [
    {
     "name": "stdout",
     "output_type": "stream",
     "text": [
      "Hello, Mr. Siva Naga Raju How Can I Help You.\n"
     ]
    }
   ],
   "source": [
    "print(mssg)"
   ]
  },
  {
   "cell_type": "code",
   "execution_count": 9,
   "id": "0e222860-d6b7-485f-9940-93b7762cd198",
   "metadata": {},
   "outputs": [
    {
     "name": "stdout",
     "output_type": "stream",
     "text": [
      "Hello, Mr. Siva Naga Raju\n",
      "Hello, Mr. Siva Naga Raju How Can I Help You.\n"
     ]
    }
   ],
   "source": [
    "# or:\n",
    "print(z)\n",
    "z = z + \" How Can I Help You.\"\n",
    "print(z)"
   ]
  },
  {
   "cell_type": "code",
   "execution_count": 10,
   "id": "49cdb71b-e4e9-47cb-af89-99aa022c4fe6",
   "metadata": {},
   "outputs": [
    {
     "name": "stdout",
     "output_type": "stream",
     "text": [
      "2.3\n"
     ]
    }
   ],
   "source": [
    "# float values:\n",
    "x = 2.3\n",
    "print(x)"
   ]
  },
  {
   "cell_type": "code",
   "execution_count": 11,
   "id": "69fc321d-cc7d-4042-8ca3-54738f5b45b1",
   "metadata": {},
   "outputs": [
    {
     "name": "stdout",
     "output_type": "stream",
     "text": [
      "2.3958694859493\n"
     ]
    }
   ],
   "source": [
    "x = 2.3958694859493\n",
    "print(x)"
   ]
  },
  {
   "cell_type": "code",
   "execution_count": 12,
   "id": "292994db-2341-466f-94ac-0336c7ec50da",
   "metadata": {},
   "outputs": [],
   "source": [
    "x = 23/7"
   ]
  },
  {
   "cell_type": "code",
   "execution_count": 13,
   "id": "b399e926-c3fb-4df9-9b94-7776eaf2d5d8",
   "metadata": {},
   "outputs": [
    {
     "name": "stdout",
     "output_type": "stream",
     "text": [
      "3.2857142857142856\n"
     ]
    }
   ],
   "source": [
    "print(x)"
   ]
  },
  {
   "cell_type": "code",
   "execution_count": 14,
   "id": "51f44db5-70cb-4771-840f-72beed4f1eee",
   "metadata": {},
   "outputs": [
    {
     "name": "stdout",
     "output_type": "stream",
     "text": [
      "9.0\n"
     ]
    }
   ],
   "source": [
    "x = 4.000000000\n",
    "y = 5\n",
    "z = x+y\n",
    "print(z)"
   ]
  },
  {
   "cell_type": "code",
   "execution_count": 19,
   "id": "6cfbbb8f-716e-4003-b884-8fe52a4e9417",
   "metadata": {},
   "outputs": [
    {
     "name": "stdout",
     "output_type": "stream",
     "text": [
      "x and y are not equal\n",
      "z = 0.3 \n",
      "x+y = 0.30000000000000004\n"
     ]
    }
   ],
   "source": [
    "# this is just an example:\n",
    "x = 0.1\n",
    "y = 0.2\n",
    "z = 0.3\n",
    "if(z == x+y):\n",
    "    print(\"x and y are equal\")\n",
    "else:\n",
    "    print(\"x and y are not equal\")\n",
    "    print(\"z =\", z, \"\\nx+y =\", x+y)"
   ]
  },
  {
   "cell_type": "markdown",
   "id": "00312169-cee3-49cc-9abf-ee7adcb9b4a3",
   "metadata": {},
   "source": [
    "**Be Careful when Dealing with Foats**"
   ]
  },
  {
   "cell_type": "code",
   "execution_count": 1,
   "id": "edb9b3bb-006b-46ee-8252-bd852aaa40f2",
   "metadata": {},
   "outputs": [
    {
     "name": "stdout",
     "output_type": "stream",
     "text": [
      "X is True\n",
      "Y is False\n"
     ]
    }
   ],
   "source": [
    "# bool values:\n",
    "x = True\n",
    "y = False\n",
    "if x:\n",
    "    print(\"X is True\")\n",
    "    if y:\n",
    "        print(\"Y is True\")\n",
    "    else:\n",
    "        print(\"Y is False\")\n",
    "else:\n",
    "    print(\"X is False\")"
   ]
  },
  {
   "cell_type": "code",
   "execution_count": 2,
   "id": "ee70095c-5edf-4a35-bac8-553c9e3e74e1",
   "metadata": {},
   "outputs": [],
   "source": [
    "# bool has only two values\n",
    "# 1. True\n",
    "# 2. False"
   ]
  },
  {
   "cell_type": "markdown",
   "id": "e2b37744-9224-40d8-89e9-371fedbfe459",
   "metadata": {},
   "source": [
    "**Strings and String Methods**"
   ]
  },
  {
   "cell_type": "code",
   "execution_count": 1,
   "id": "3f58b01f-8eb3-4f1b-84ce-2f76991ec75c",
   "metadata": {},
   "outputs": [],
   "source": [
    "# String representation is flexible.\n",
    "s1 = 'I told my friend that \"Python is my favorite language\"'\n",
    "s2 = \"The language 'python' is so flexible\""
   ]
  },
  {
   "cell_type": "code",
   "execution_count": 2,
   "id": "42bc1f3d-f8c5-4ad8-beff-a8f2626ef465",
   "metadata": {},
   "outputs": [
    {
     "name": "stdout",
     "output_type": "stream",
     "text": [
      "I told my friend that \"Python is my favorite language\"\n",
      "The language 'python' is so flexible\n"
     ]
    }
   ],
   "source": [
    "print(s1)\n",
    "print(s2)"
   ]
  },
  {
   "cell_type": "code",
   "execution_count": 3,
   "id": "4defcb30-c8be-4d8d-b1f7-6b76dbc6e5ab",
   "metadata": {},
   "outputs": [
    {
     "name": "stdout",
     "output_type": "stream",
     "text": [
      "Siva Naga Raju\n",
      "SIVA NAGA RAJU\n",
      "siva naga raju\n"
     ]
    }
   ],
   "source": [
    "# Changing Case in a String.\n",
    "s = \"siva nAGA raju\"\n",
    "print(s.title())\n",
    "print(s.upper())\n",
    "print(s.lower())"
   ]
  },
  {
   "cell_type": "code",
   "execution_count": 1,
   "id": "df666a9b-69c3-4a4f-a816-e798967b17f6",
   "metadata": {},
   "outputs": [
    {
     "name": "stdout",
     "output_type": "stream",
     "text": [
      "ada lovelace\n"
     ]
    }
   ],
   "source": [
    "# Using Variables in Strings\n",
    "first_name = \"ada\"\n",
    "last_name = \"lovelace\"\n",
    "full_name = f\"{first_name} {last_name}\"\n",
    "print(full_name)"
   ]
  },
  {
   "cell_type": "code",
   "execution_count": 2,
   "id": "9426c47c-b8c1-42c9-b1db-ecb4f61d1ea4",
   "metadata": {},
   "outputs": [
    {
     "name": "stdout",
     "output_type": "stream",
     "text": [
      "ada\n",
      "lovelace\n"
     ]
    }
   ],
   "source": [
    "print(first_name)\n",
    "print(last_name)\n",
    "name = first_name + last_name"
   ]
  },
  {
   "cell_type": "code",
   "execution_count": 3,
   "id": "2aff0e25-11f0-4638-b9f3-fd444cd66b24",
   "metadata": {},
   "outputs": [
    {
     "name": "stdout",
     "output_type": "stream",
     "text": [
      "adalovelace\n"
     ]
    }
   ],
   "source": [
    "print(name)"
   ]
  },
  {
   "cell_type": "code",
   "execution_count": 4,
   "id": "d70572b5-6739-4e26-a2bd-91169e37fca8",
   "metadata": {},
   "outputs": [
    {
     "name": "stdout",
     "output_type": "stream",
     "text": [
      "ada lovelace\n"
     ]
    }
   ],
   "source": [
    "print(full_name)"
   ]
  },
  {
   "cell_type": "code",
   "execution_count": 5,
   "id": "d6f182e7-8ea8-4bba-893c-cd75b15be31e",
   "metadata": {},
   "outputs": [
    {
     "name": "stdout",
     "output_type": "stream",
     "text": [
      "Ada Lovelace\n"
     ]
    }
   ],
   "source": [
    "print(full_name.title())"
   ]
  },
  {
   "cell_type": "code",
   "execution_count": 6,
   "id": "f40a9689-dfa9-4deb-bb2f-8606cedf4c22",
   "metadata": {},
   "outputs": [
    {
     "name": "stdout",
     "output_type": "stream",
     "text": [
      "Hello, Ada Lovelace!\n"
     ]
    }
   ],
   "source": [
    "# f-String\n",
    "print(f\"Hello, {full_name.title()}!\")"
   ]
  },
  {
   "cell_type": "code",
   "execution_count": 7,
   "id": "ee91d9b4-1686-4d86-9d5c-3d32fb3f3b84",
   "metadata": {},
   "outputs": [
    {
     "name": "stdout",
     "output_type": "stream",
     "text": [
      "ada lovelace\n"
     ]
    }
   ],
   "source": [
    "name2 = \"{} {}\".format(first_name, last_name)\n",
    "print(name2)"
   ]
  },
  {
   "cell_type": "code",
   "execution_count": 3,
   "id": "e14f6d4c-c659-433f-947b-00f7d56494e8",
   "metadata": {},
   "outputs": [
    {
     "name": "stdout",
     "output_type": "stream",
     "text": [
      "\tPython\n",
      "Python\n",
      "Python\tPython\n",
      "Python\n",
      "Python\n"
     ]
    }
   ],
   "source": [
    "#Tabs and NewLines (White Spaces)\n",
    "print(\"\\tPython\")\n",
    "print(\"Python\")\n",
    "print(\"Python\\tPython\")\n",
    "print(\"Python\\nPython\")"
   ]
  },
  {
   "cell_type": "code",
   "execution_count": 5,
   "id": "89715973-c587-49a0-a9ec-a9a9140bd654",
   "metadata": {},
   "outputs": [
    {
     "name": "stdout",
     "output_type": "stream",
     "text": [
      "x    I am Siva Naga Raju     x\n",
      "x I am Siva Naga Raju     x\n",
      "x    I am Siva Naga Raju x\n",
      "x I am Siva Naga Raju x\n"
     ]
    }
   ],
   "source": [
    "# Stripping Whitespace\n",
    "msg = \"   I am Siva Naga Raju    \"\n",
    "print(\"x\", msg, \"x\")\n",
    "print(\"x\", msg.lstrip(), \"x\")\n",
    "print(\"x\", msg.rstrip(), \"x\")\n",
    "print(\"x\", msg.strip(), \"x\")"
   ]
  },
  {
   "cell_type": "code",
   "execution_count": 7,
   "id": "3ae9a572-4fb5-4b9d-93b0-ed73c1c8dcdf",
   "metadata": {},
   "outputs": [
    {
     "name": "stdout",
     "output_type": "stream",
     "text": [
      "   I am Siva Naga Raju     x\n",
      "I am Siva Naga Raju    \n",
      "   I am Siva Naga Raju\n",
      "I am Siva Naga Raju\n"
     ]
    }
   ],
   "source": [
    "msg1 = \"   \\nI am Siva Naga Raju   \\n\"\n",
    "print(msg, \"x\")\n",
    "print(msg.lstrip())\n",
    "print(msg.rstrip())\n",
    "print(msg.strip())"
   ]
  },
  {
   "cell_type": "markdown",
   "id": "69c8cef1-c98e-4b49-a646-49e31b0ebd86",
   "metadata": {},
   "source": [
    "**Numbers**"
   ]
  },
  {
   "cell_type": "code",
   "execution_count": 9,
   "id": "3d509b82-ba96-484f-a24f-4ce8050965f1",
   "metadata": {},
   "outputs": [
    {
     "name": "stdout",
     "output_type": "stream",
     "text": [
      "5\n",
      "1\n",
      "4\n",
      "1.5\n",
      "1\n",
      "9\n",
      "1\n"
     ]
    }
   ],
   "source": [
    "print(2+3)   #addition\n",
    "print(3-2)   #Subtraction\n",
    "print(2*2)   #Multiplication\n",
    "print(3/2)   #Division\n",
    "print(3%2)   #Modulo Division\n",
    "print(3**2)  #Power\n",
    "print(3//2)  #Floar Division"
   ]
  },
  {
   "cell_type": "code",
   "execution_count": 1,
   "id": "eddb3117-295c-44f9-bb28-9c825f4fcb1a",
   "metadata": {},
   "outputs": [
    {
     "name": "stdout",
     "output_type": "stream",
     "text": [
      "10000000000\n"
     ]
    }
   ],
   "source": [
    "# UnderScore in Numbers.\n",
    "n = 10_000_000_000\n",
    "print(n)"
   ]
  },
  {
   "cell_type": "code",
   "execution_count": 8,
   "id": "d3763a7f-d4b5-4110-97e6-e13d7a7087cb",
   "metadata": {},
   "outputs": [
    {
     "name": "stdout",
     "output_type": "stream",
     "text": [
      "0.30000000000000004\n",
      "0.30000000000000004\n"
     ]
    }
   ],
   "source": [
    "# Error while using floating point values in all programming languages\n",
    "print(0.1 + 0.2)\n",
    "print(0.1 * 3)"
   ]
  },
  {
   "cell_type": "code",
   "execution_count": 4,
   "id": "1e769055-7bfc-4e8d-9dc8-c9aa542293bb",
   "metadata": {},
   "outputs": [
    {
     "data": {
      "text/plain": [
       "15.0"
      ]
     },
     "execution_count": 4,
     "metadata": {},
     "output_type": "execute_result"
    }
   ],
   "source": [
    "# AutoMatic Type Casting.\n",
    "9.0+6"
   ]
  },
  {
   "cell_type": "code",
   "execution_count": 9,
   "id": "41bdaa46-9525-4538-b851-f9b7836458a2",
   "metadata": {},
   "outputs": [
    {
     "name": "stdout",
     "output_type": "stream",
     "text": [
      "The Zen of Python, by Tim Peters\n",
      "\n",
      "Beautiful is better than ugly.\n",
      "Explicit is better than implicit.\n",
      "Simple is better than complex.\n",
      "Complex is better than complicated.\n",
      "Flat is better than nested.\n",
      "Sparse is better than dense.\n",
      "Readability counts.\n",
      "Special cases aren't special enough to break the rules.\n",
      "Although practicality beats purity.\n",
      "Errors should never pass silently.\n",
      "Unless explicitly silenced.\n",
      "In the face of ambiguity, refuse the temptation to guess.\n",
      "There should be one-- and preferably only one --obvious way to do it.\n",
      "Although that way may not be obvious at first unless you're Dutch.\n",
      "Now is better than never.\n",
      "Although never is often better than *right* now.\n",
      "If the implementation is hard to explain, it's a bad idea.\n",
      "If the implementation is easy to explain, it may be a good idea.\n",
      "Namespaces are one honking great idea -- let's do more of those!\n"
     ]
    }
   ],
   "source": [
    "# The ZEN of Programming.\n",
    "#type\n",
    "import this\n",
    "# in a python terminal"
   ]
  },
  {
   "cell_type": "markdown",
   "id": "28ca7411-a8d7-456d-857c-cca569c7cf8a",
   "metadata": {},
   "source": [
    "**End Of The Chapter**"
   ]
  },
  {
   "cell_type": "code",
   "execution_count": null,
   "id": "429643fd-6c96-4469-a716-bafc834b3cd8",
   "metadata": {},
   "outputs": [],
   "source": []
  }
 ],
 "metadata": {
  "kernelspec": {
   "display_name": "Python 3 (ipykernel)",
   "language": "python",
   "name": "python3"
  },
  "language_info": {
   "codemirror_mode": {
    "name": "ipython",
    "version": 3
   },
   "file_extension": ".py",
   "mimetype": "text/x-python",
   "name": "python",
   "nbconvert_exporter": "python",
   "pygments_lexer": "ipython3",
   "version": "3.12.1"
  }
 },
 "nbformat": 4,
 "nbformat_minor": 5
}
