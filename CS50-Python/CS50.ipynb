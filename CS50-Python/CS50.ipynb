{
 "cells": [
  {
   "cell_type": "markdown",
   "id": "a024b514-c3cc-4409-a337-a26c0ff8d51f",
   "metadata": {},
   "source": [
    "**Introduction**\n",
    "->This Section Contains Sample Programs"
   ]
  },
  {
   "cell_type": "code",
   "execution_count": 1,
   "id": "fcaa1120-6bd9-4345-85eb-742a5123243d",
   "metadata": {},
   "outputs": [
    {
     "name": "stdout",
     "output_type": "stream",
     "text": [
      "Hello World\n"
     ]
    }
   ],
   "source": [
    "print(\"Hello World\")"
   ]
  },
  {
   "cell_type": "code",
   "execution_count": 2,
   "id": "badc66da-589f-43bc-be55-e5d12af79d03",
   "metadata": {},
   "outputs": [
    {
     "name": "stdout",
     "output_type": "stream",
     "text": [
      "5\n"
     ]
    }
   ],
   "source": [
    "print(2+3)"
   ]
  },
  {
   "cell_type": "code",
   "execution_count": 5,
   "id": "fa5bd102-cefb-4904-bf0f-aa5da91f1181",
   "metadata": {},
   "outputs": [],
   "source": [
    "#Every Function produces certain task that is either\n",
    "# 1. Producing a Side effect.\n",
    "# 2. Returning Value.\n",
    "def first_function():\n",
    "    print(\"Hello World\")\n",
    "\n",
    "# As a result of calling this function produces a Side Effect.\n",
    "# i.e., printing Hello World to the screen"
   ]
  },
  {
   "cell_type": "code",
   "execution_count": 4,
   "id": "94dd3898-45e0-4025-8dca-e4500fa9f95d",
   "metadata": {},
   "outputs": [
    {
     "name": "stdout",
     "output_type": "stream",
     "text": [
      "Hello World\n"
     ]
    }
   ],
   "source": [
    "first_function()"
   ]
  },
  {
   "cell_type": "code",
   "execution_count": 6,
   "id": "3b07fd32-deae-4fec-a6f5-9d2719b1ddc3",
   "metadata": {},
   "outputs": [],
   "source": [
    "# Returning A Value\n",
    "\n",
    "def return_a_value():\n",
    "    x = 10;\n",
    "    return x;"
   ]
  },
  {
   "cell_type": "code",
   "execution_count": 7,
   "id": "a0672a56-e056-4bdc-a053-b8ac7fdbcad0",
   "metadata": {},
   "outputs": [
    {
     "name": "stdout",
     "output_type": "stream",
     "text": [
      "10\n"
     ]
    }
   ],
   "source": [
    "y = return_a_value()\n",
    "print(y)"
   ]
  },
  {
   "cell_type": "code",
   "execution_count": 8,
   "id": "7c07dcb6-30b6-4543-86fa-1e598eee3229",
   "metadata": {},
   "outputs": [],
   "source": [
    "# You can pass values known as Arguments to functions If they take one or more\n",
    "def square(x):\n",
    "    sqr = x ** 2\n",
    "    return sqr\n",
    "    "
   ]
  },
  {
   "cell_type": "code",
   "execution_count": 9,
   "id": "48c0b88d-7991-4dd7-b05c-4359c6832e88",
   "metadata": {},
   "outputs": [
    {
     "data": {
      "text/plain": [
       "100"
      ]
     },
     "execution_count": 9,
     "metadata": {},
     "output_type": "execute_result"
    }
   ],
   "source": [
    "square(10)"
   ]
  },
  {
   "cell_type": "code",
   "execution_count": 10,
   "id": "3da94d50-5550-47e0-aaa9-ec3bec56a43c",
   "metadata": {},
   "outputs": [],
   "source": [
    "# Passing multiple arguments\n",
    "def add(x, y):\n",
    "    sum = x+y\n",
    "    return sum\n",
    "    "
   ]
  },
  {
   "cell_type": "code",
   "execution_count": 11,
   "id": "752e2148-94c7-467c-931e-d8a1f8bd0a24",
   "metadata": {},
   "outputs": [
    {
     "data": {
      "text/plain": [
       "110"
      ]
     },
     "execution_count": 11,
     "metadata": {},
     "output_type": "execute_result"
    }
   ],
   "source": [
    "add(10, 100)"
   ]
  },
  {
   "cell_type": "code",
   "execution_count": 14,
   "id": "587c90d4-b8d1-490c-be9e-3e03d5b0acdd",
   "metadata": {},
   "outputs": [],
   "source": [
    "# Here while defining function the variables in paranthesis are called \"Paramenters\"\n",
    "# print() method has several parameters in it's definition\n",
    "# print(*objects, sep = \" \", end = \"\\n\")\n",
    "\n",
    "def print_function():\n",
    "    x = 10\n",
    "    y = 20\n",
    "    z = x+y\n",
    "    print(x, y, z)\n",
    "    print(x, y, z, end = \"-----\")\n",
    "    print(x, y, z, sep = \"?\", end = \"&\\n\")\n",
    "    "
   ]
  },
  {
   "cell_type": "code",
   "execution_count": 13,
   "id": "32fd3108-ac09-4700-b185-978a34e74795",
   "metadata": {},
   "outputs": [
    {
     "name": "stdout",
     "output_type": "stream",
     "text": [
      "10 20 30\n",
      "10 20 30-----10?20?30\n"
     ]
    }
   ],
   "source": [
    "print_function()"
   ]
  },
  {
   "cell_type": "code",
   "execution_count": 15,
   "id": "c6d5bc78-5d38-4660-af3f-7677ab46aa38",
   "metadata": {},
   "outputs": [
    {
     "name": "stdout",
     "output_type": "stream",
     "text": [
      "10 20 30\n",
      "10 20 30-----10?20?30&\n"
     ]
    }
   ],
   "source": [
    "print_function()"
   ]
  },
  {
   "cell_type": "code",
   "execution_count": null,
   "id": "9f5f097d-f8dc-4953-8f0b-29d2dafe4f54",
   "metadata": {},
   "outputs": [],
   "source": [
    "# Remember:- The Order of the Arguments you pass to a function should match the Order of the Parameters of that function\n",
    "# For example\n",
    "def this_wont_work():\n",
    "    print(10, sep = \":\", 20)"
   ]
  },
  {
   "cell_type": "code",
   "execution_count": 17,
   "id": "58318c8d-ca71-4102-975b-25580d006847",
   "metadata": {},
   "outputs": [],
   "source": [
    "# In python Every this is an Object.\n",
    "# in print() syntax, it takes *objects as it's first \"Positional Argument\"\n",
    "# This means it takes \"any number\"(*) of objects\n",
    "# and we passed different number of {variables and even raw numbers}\n",
    "# all these are Objects"
   ]
  },
  {
   "cell_type": "code",
   "execution_count": null,
   "id": "c5fa8e92-af8d-4be5-ab6c-e4d8fc5e6a4c",
   "metadata": {},
   "outputs": [],
   "source": []
  }
 ],
 "metadata": {
  "kernelspec": {
   "display_name": "Python 3 (ipykernel)",
   "language": "python",
   "name": "python3"
  },
  "language_info": {
   "codemirror_mode": {
    "name": "ipython",
    "version": 3
   },
   "file_extension": ".py",
   "mimetype": "text/x-python",
   "name": "python",
   "nbconvert_exporter": "python",
   "pygments_lexer": "ipython3",
   "version": "3.12.1"
  }
 },
 "nbformat": 4,
 "nbformat_minor": 5
}
