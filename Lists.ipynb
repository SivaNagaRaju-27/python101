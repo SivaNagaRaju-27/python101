{
 "cells": [
  {
   "cell_type": "markdown",
   "id": "134447a5-046c-4ad1-9074-3656dc520a13",
   "metadata": {},
   "source": [
    "# Introduction"
   ]
  },
  {
   "cell_type": "code",
   "execution_count": 1,
   "id": "205f01f5-d4b5-4c9f-b78d-242b7d8ef798",
   "metadata": {},
   "outputs": [
    {
     "name": "stdout",
     "output_type": "stream",
     "text": [
      "['Siva', 'Naga', 'Raju']\n",
      "[1, 2, 3, 4, 5, 6, 7, 8]\n",
      "[]\n"
     ]
    }
   ],
   "source": [
    "# Creating a list;\n",
    "l1 = [\"Siva\", \"Naga\", \"Raju\"] # List of Strings\n",
    "l2 = [1, 2, 3, 4, 5, 6, 7, 8] # List of Numbers\n",
    "l3 = [] # Empty List\n",
    "\n",
    "print(l1)\n",
    "print(l2)\n",
    "print(l3)"
   ]
  },
  {
   "cell_type": "markdown",
   "id": "a2439a31-3689-42f9-a60f-05280d3dd174",
   "metadata": {},
   "source": [
    "*1. Accessing Elements in List.*"
   ]
  },
  {
   "cell_type": "code",
   "execution_count": 2,
   "id": "bd67f921-42bc-437e-8c4d-f041cea4c3f5",
   "metadata": {},
   "outputs": [
    {
     "name": "stdout",
     "output_type": "stream",
     "text": [
      "Naga\n"
     ]
    }
   ],
   "source": [
    "# You can access elements of a list using Indexing[]\n",
    "print(l1[1]) # This will return the second element of the list."
   ]
  },
  {
   "cell_type": "code",
   "execution_count": 3,
   "id": "294b2526-0ee6-42a0-97cf-f5ac0a85837c",
   "metadata": {},
   "outputs": [
    {
     "name": "stdout",
     "output_type": "stream",
     "text": [
      "siva\n"
     ]
    }
   ],
   "source": [
    "print(l1[0].lower())"
   ]
  },
  {
   "cell_type": "code",
   "execution_count": 4,
   "id": "5327ff0c-17d8-4b18-a594-b911731f63fc",
   "metadata": {},
   "outputs": [
    {
     "name": "stdout",
     "output_type": "stream",
     "text": [
      "SIVA\n"
     ]
    }
   ],
   "source": [
    "print(l1[0].upper())"
   ]
  },
  {
   "cell_type": "code",
   "execution_count": 5,
   "id": "44c24ff4-ab19-491b-afe4-7df895e3ad7d",
   "metadata": {},
   "outputs": [
    {
     "name": "stdout",
     "output_type": "stream",
     "text": [
      "['Siva', 'Naga', 'Raju']\n"
     ]
    }
   ],
   "source": [
    "print(l1)"
   ]
  },
  {
   "cell_type": "code",
   "execution_count": 6,
   "id": "77d3b6e0-cfc4-4e83-b212-b7f57c7a3964",
   "metadata": {},
   "outputs": [],
   "source": [
    "x = l1[2].upper()"
   ]
  },
  {
   "cell_type": "code",
   "execution_count": 7,
   "id": "3b05df4e-dd51-420a-ba5e-9c5bf6368b4a",
   "metadata": {},
   "outputs": [
    {
     "name": "stdout",
     "output_type": "stream",
     "text": [
      "RAJU\n"
     ]
    }
   ],
   "source": [
    "print(x)"
   ]
  },
  {
   "cell_type": "code",
   "execution_count": 8,
   "id": "b38ca01e-27a0-4dc5-ba45-599e76f91655",
   "metadata": {},
   "outputs": [],
   "source": [
    "sum = l2[0] + l2[1]"
   ]
  },
  {
   "cell_type": "code",
   "execution_count": 9,
   "id": "f4a1d73c-f423-48b3-97e6-c1512f27596b",
   "metadata": {},
   "outputs": [
    {
     "name": "stdout",
     "output_type": "stream",
     "text": [
      "3\n"
     ]
    }
   ],
   "source": [
    "print(sum)"
   ]
  },
  {
   "cell_type": "code",
   "execution_count": 10,
   "id": "a8dc451a-751b-46cd-b423-61861f46af51",
   "metadata": {},
   "outputs": [],
   "source": [
    "sum = l2[3] + l2[5]"
   ]
  },
  {
   "cell_type": "code",
   "execution_count": 11,
   "id": "98e33cb8-af66-44bd-99c2-d83cdc1aa905",
   "metadata": {},
   "outputs": [
    {
     "name": "stdout",
     "output_type": "stream",
     "text": [
      "10\n"
     ]
    }
   ],
   "source": [
    "print(sum)"
   ]
  },
  {
   "cell_type": "code",
   "execution_count": 12,
   "id": "ac9d13c8-b0c0-4497-bd3e-0ee4f421bbbd",
   "metadata": {},
   "outputs": [
    {
     "name": "stdout",
     "output_type": "stream",
     "text": [
      "Raju\n"
     ]
    }
   ],
   "source": [
    "x = l1[-1] # -1 indicates the syntax (n-1) i.e.,\n",
    "print(x)"
   ]
  },
  {
   "cell_type": "code",
   "execution_count": 16,
   "id": "98896eba-cc7f-40c9-99f3-6b91a7d9f0f1",
   "metadata": {},
   "outputs": [
    {
     "name": "stdout",
     "output_type": "stream",
     "text": [
      "8\n"
     ]
    }
   ],
   "source": [
    "x = l2[-1]\n",
    "print(x)"
   ]
  },
  {
   "cell_type": "code",
   "execution_count": 15,
   "id": "5ee48ccf-2548-453f-8ffe-97f8a0b198fa",
   "metadata": {},
   "outputs": [
    {
     "name": "stdout",
     "output_type": "stream",
     "text": [
      "6\n"
     ]
    }
   ],
   "source": [
    "x = l2[-3]\n",
    "print(x)"
   ]
  },
  {
   "cell_type": "code",
   "execution_count": 19,
   "id": "440a6643-48b7-45cb-98fd-e1e74cedeb7c",
   "metadata": {},
   "outputs": [
    {
     "name": "stdout",
     "output_type": "stream",
     "text": [
      "lenth = 3\n"
     ]
    }
   ],
   "source": [
    "# You can obtain the length of the list using len()\n",
    "length = len(l1)\n",
    "print(\"lenth = \"+str(length))"
   ]
  },
  {
   "cell_type": "code",
   "execution_count": 20,
   "id": "32de4609-6596-412b-9ae2-68739b595943",
   "metadata": {},
   "outputs": [],
   "source": [
    "length = len(l2)"
   ]
  },
  {
   "cell_type": "code",
   "execution_count": 21,
   "id": "9264ceca-803a-479c-881e-9cec257db0c9",
   "metadata": {},
   "outputs": [
    {
     "name": "stdout",
     "output_type": "stream",
     "text": [
      "length = 8\n"
     ]
    }
   ],
   "source": [
    "print(\"length =\", length)"
   ]
  },
  {
   "cell_type": "code",
   "execution_count": 27,
   "id": "3e2c3d85-c989-4e9e-a808-dcf3497188d2",
   "metadata": {},
   "outputs": [
    {
     "name": "stdout",
     "output_type": "stream",
     "text": [
      "[0, 1, 2, 3, 4, 5, 6, 7, 8, 9, 10, 11, 12, 13, 14, 15, 16, 17, 18, 19]\n"
     ]
    }
   ],
   "source": [
    "x = list(range(20))\n",
    "print(x)"
   ]
  },
  {
   "cell_type": "code",
   "execution_count": 28,
   "id": "403c540e-0371-450d-a494-3df9ef801c3f",
   "metadata": {},
   "outputs": [],
   "source": [
    "length = len(x)"
   ]
  },
  {
   "cell_type": "code",
   "execution_count": 29,
   "id": "2ad5324e-d582-4165-983c-feb77ba54425",
   "metadata": {},
   "outputs": [
    {
     "name": "stdout",
     "output_type": "stream",
     "text": [
      "20\n"
     ]
    }
   ],
   "source": [
    "print(length)"
   ]
  },
  {
   "cell_type": "markdown",
   "id": "4f92d517-203c-4a1d-9a49-e2e744374ef8",
   "metadata": {},
   "source": [
    "*2. Changing, Adding, and Removing Elements*"
   ]
  },
  {
   "cell_type": "code",
   "execution_count": 30,
   "id": "ad365976-12a1-4250-adef-8817c380f793",
   "metadata": {},
   "outputs": [
    {
     "name": "stdout",
     "output_type": "stream",
     "text": [
      "[1, 2, 3, 4, 5, 6, 7, 8]\n",
      "[10, 2, 3, 4, 5, 6, 7, 8]\n"
     ]
    }
   ],
   "source": [
    "# Modifying Elements in a list\n",
    "print(l2)\n",
    "l2[0] = 10\n",
    "print(l2)"
   ]
  },
  {
   "cell_type": "code",
   "execution_count": 31,
   "id": "c3edeb39-091c-4655-b792-aa92713a3d3e",
   "metadata": {},
   "outputs": [
    {
     "name": "stdout",
     "output_type": "stream",
     "text": [
      "[10, 20, 30, 40, 5, 6, 7, 8]\n"
     ]
    }
   ],
   "source": [
    "l2[1], l2[2], l2[3] = 20, 30, 40\n",
    "print(l2)"
   ]
  },
  {
   "cell_type": "code",
   "execution_count": 33,
   "id": "cb8ebc05-8a27-4924-84d6-f29a59e6112c",
   "metadata": {},
   "outputs": [
    {
     "name": "stdout",
     "output_type": "stream",
     "text": [
      "['Splender']\n",
      "['Splender', 'Glamor']\n",
      "['Splender', 'Glamor', 'Royal Enfield']\n",
      "['Splender', 'Glamor', 'Royal Enfield', 'Ducati']\n",
      "['Splender', 'Glamor', 'Royal Enfield', 'Ducati', 'Triumph']\n"
     ]
    }
   ],
   "source": [
    "# Adding Elements to the list\n",
    "# the append() method to append at the end.\n",
    "motor_cycles = []\n",
    "motor_cycles.append(\"Splender\")\n",
    "print(motor_cycles)\n",
    "motor_cycles.append(\"Glamor\")\n",
    "print(motor_cycles)\n",
    "motor_cycles.append(\"Royal Enfield\")\n",
    "print(motor_cycles)\n",
    "motor_cycles.append(\"Ducati\")\n",
    "print(motor_cycles)\n",
    "motor_cycles.append(\"Triumph\")\n",
    "print(motor_cycles)"
   ]
  },
  {
   "cell_type": "code",
   "execution_count": 34,
   "id": "3f341a70-85a8-4f2c-8570-0e7d88b776d4",
   "metadata": {},
   "outputs": [
    {
     "name": "stdout",
     "output_type": "stream",
     "text": [
      "['Hero Honda', 'Splender', 'Glamor', 'Royal Enfield', 'Ducati', 'Triumph']\n"
     ]
    }
   ],
   "source": [
    "# insert() method to insert at any Index.\n",
    "motor_cycles.insert(0, \"Hero Honda\")\n",
    "print(motor_cycles)"
   ]
  },
  {
   "cell_type": "code",
   "execution_count": 35,
   "id": "b36c76ab-d1e9-4987-a153-eb3e9ccf2c61",
   "metadata": {},
   "outputs": [],
   "source": [
    "motor_cycles.insert(3, \"Unicorn\")"
   ]
  },
  {
   "cell_type": "code",
   "execution_count": 36,
   "id": "e4c5de93-4e87-4593-a81b-ef641c10802c",
   "metadata": {},
   "outputs": [
    {
     "name": "stdout",
     "output_type": "stream",
     "text": [
      "['Hero Honda', 'Splender', 'Glamor', 'Unicorn', 'Royal Enfield', 'Ducati', 'Triumph']\n"
     ]
    }
   ],
   "source": [
    "print(motor_cycles)"
   ]
  },
  {
   "cell_type": "code",
   "execution_count": 37,
   "id": "a87e959c-63e1-486c-8627-44f715f73514",
   "metadata": {},
   "outputs": [],
   "source": [
    "motor_cycles.insert(-1, \"Suzuki\")"
   ]
  },
  {
   "cell_type": "code",
   "execution_count": 38,
   "id": "34a9138d-3c9c-4b51-a402-264f57867fb3",
   "metadata": {},
   "outputs": [
    {
     "name": "stdout",
     "output_type": "stream",
     "text": [
      "['Hero Honda', 'Splender', 'Glamor', 'Unicorn', 'Royal Enfield', 'Ducati', 'Suzuki', 'Triumph']\n"
     ]
    }
   ],
   "source": [
    "print(motor_cycles)"
   ]
  },
  {
   "cell_type": "code",
   "execution_count": 39,
   "id": "e80c42e6-f101-40f3-8c21-a8e17179434d",
   "metadata": {},
   "outputs": [],
   "source": [
    "motor_cycles.insert(len(motor_cycles), \"Yamaha\")"
   ]
  },
  {
   "cell_type": "code",
   "execution_count": 40,
   "id": "a983620a-554d-4b1d-8abe-d8e298ce1ba2",
   "metadata": {},
   "outputs": [
    {
     "name": "stdout",
     "output_type": "stream",
     "text": [
      "['Hero Honda', 'Splender', 'Glamor', 'Unicorn', 'Royal Enfield', 'Ducati', 'Suzuki', 'Triumph', 'Yamaha']\n"
     ]
    }
   ],
   "source": [
    "print(motor_cycles)"
   ]
  },
  {
   "cell_type": "code",
   "execution_count": 41,
   "id": "8febc9e1-6f1b-4278-9410-2b11b3afc3c3",
   "metadata": {},
   "outputs": [],
   "source": [
    "# Deleting an element from the index\n",
    "del motor_cycles[-1]"
   ]
  },
  {
   "cell_type": "code",
   "execution_count": 42,
   "id": "870a0c9e-aadc-4f0f-98c0-2fcc9644a9f9",
   "metadata": {},
   "outputs": [
    {
     "name": "stdout",
     "output_type": "stream",
     "text": [
      "['Hero Honda', 'Splender', 'Glamor', 'Unicorn', 'Royal Enfield', 'Ducati', 'Suzuki', 'Triumph']\n"
     ]
    }
   ],
   "source": [
    "print(motor_cycles)"
   ]
  },
  {
   "cell_type": "code",
   "execution_count": 43,
   "id": "a610e27a-b172-49bc-a93b-a27f5c4ea35e",
   "metadata": {},
   "outputs": [
    {
     "name": "stdout",
     "output_type": "stream",
     "text": [
      "['Splender', 'Glamor', 'Unicorn', 'Royal Enfield', 'Ducati', 'Suzuki', 'Triumph']\n"
     ]
    }
   ],
   "source": [
    "del motor_cycles[0]\n",
    "print(motor_cycles)"
   ]
  },
  {
   "cell_type": "code",
   "execution_count": 44,
   "id": "fda3867e-0857-4f96-ab2c-c8e37ef0f753",
   "metadata": {},
   "outputs": [],
   "source": [
    "del motor_cycles[-2]"
   ]
  },
  {
   "cell_type": "code",
   "execution_count": 45,
   "id": "ef6ce8bb-045f-474b-a292-e1e6cff6f023",
   "metadata": {},
   "outputs": [
    {
     "name": "stdout",
     "output_type": "stream",
     "text": [
      "['Splender', 'Glamor', 'Unicorn', 'Royal Enfield', 'Ducati', 'Triumph']\n"
     ]
    }
   ],
   "source": [
    "print(motor_cycles)"
   ]
  },
  {
   "cell_type": "code",
   "execution_count": 46,
   "id": "6205ece6-c838-4531-b3b2-8c35dcc615a0",
   "metadata": {},
   "outputs": [
    {
     "name": "stdout",
     "output_type": "stream",
     "text": [
      "['Splender', 'Glamor', 'Unicorn', 'Royal Enfield', 'Ducati']\n",
      "['Splender', 'Glamor', 'Unicorn', 'Royal Enfield', 'Ducati', 'Triumph']\n"
     ]
    }
   ],
   "source": [
    "# if you want to use the deleted value use pop() method.\n",
    "# pop() will remove the last item.\n",
    "last_motor_cycle = motor_cycles.pop()\n",
    "print(motor_cycles)\n",
    "motor_cycles.append(last_motor_cycle)\n",
    "print(motor_cycles)"
   ]
  },
  {
   "cell_type": "code",
   "execution_count": 47,
   "id": "d4d36c2b-cbce-46fd-b098-aa5362231904",
   "metadata": {},
   "outputs": [
    {
     "name": "stdout",
     "output_type": "stream",
     "text": [
      "Triumph\n"
     ]
    }
   ],
   "source": [
    "print(last_motor_cycle)"
   ]
  },
  {
   "cell_type": "code",
   "execution_count": 48,
   "id": "b800c0c2-18c5-4e25-8093-42767b9e421a",
   "metadata": {},
   "outputs": [
    {
     "name": "stdout",
     "output_type": "stream",
     "text": [
      "Unicorn\n",
      "['Splender', 'Glamor', 'Royal Enfield', 'Ducati', 'Triumph']\n"
     ]
    }
   ],
   "source": [
    "# you can remove any element using pop() with indexing.\n",
    "third_bike = motor_cycles.pop(2)\n",
    "print(third_bike)\n",
    "print(motor_cycles)"
   ]
  },
  {
   "cell_type": "code",
   "execution_count": 54,
   "id": "cea01aae-d056-4ed5-9803-82786342ebf8",
   "metadata": {},
   "outputs": [
    {
     "name": "stdout",
     "output_type": "stream",
     "text": [
      "['Splender', 'Glamor', 'Royal Enfield', 'Ducati', 'Triumph']\n",
      "None\n",
      "['Splender', 'Royal Enfield', 'Ducati', 'Triumph']\n"
     ]
    }
   ],
   "source": [
    "# Removing An Element by value\n",
    "# Remove() method only removes the first occurance of the value.\n",
    "print(motor_cycles)\n",
    "x = motor_cycles.remove(\"Glamor\")\n",
    "print(x)\n",
    "print(motor_cycles)"
   ]
  },
  {
   "cell_type": "markdown",
   "id": "cb89f839-f725-4754-ab3a-1ba49a45d468",
   "metadata": {},
   "source": [
    "*Organizing a List*"
   ]
  },
  {
   "cell_type": "code",
   "execution_count": 1,
   "id": "a45514f3-8bc8-40dd-99a3-253c53f7b440",
   "metadata": {},
   "outputs": [
    {
     "name": "stdout",
     "output_type": "stream",
     "text": [
      "['Siva', 'Naga', 'Raju', 'Bhanu', 'Swami', 'Bala', 'Anu']\n",
      "['Anu', 'Bala', 'Bhanu', 'Naga', 'Raju', 'Siva', 'Swami']\n"
     ]
    }
   ],
   "source": [
    "# Sorting List permanently \n",
    "# The sort().\n",
    "list1 = []\n",
    "list1.append(\"Siva\")\n",
    "list1.append(\"Naga\")\n",
    "list1.append(\"Raju\")\n",
    "list1.append(\"Bhanu\")\n",
    "list1.append(\"Swami\")\n",
    "list1.append(\"Bala\")\n",
    "list1.append(\"Anu\")\n",
    "print(list1)\n",
    "list1.sort()\n",
    "print(list1)"
   ]
  },
  {
   "cell_type": "code",
   "execution_count": 3,
   "id": "39f79ce8-544f-438c-8a01-625f3b5298d3",
   "metadata": {},
   "outputs": [
    {
     "name": "stdout",
     "output_type": "stream",
     "text": [
      "['Siva', 'Naga', 'Raju', 'Bhanu', 'Swami', 'Bala', 'Anu']\n",
      "['Swami', 'Siva', 'Raju', 'Naga', 'Bhanu', 'Bala', 'Anu']\n"
     ]
    }
   ],
   "source": [
    "# Sorting the list in Reverse Order\n",
    "# by setting parameter \"reverse\" = true\n",
    "list1 = []\n",
    "list1.append(\"Siva\")\n",
    "list1.append(\"Naga\")\n",
    "list1.append(\"Raju\")\n",
    "list1.append(\"Bhanu\")\n",
    "list1.append(\"Swami\")\n",
    "list1.append(\"Bala\")\n",
    "list1.append(\"Anu\")\n",
    "print(list1)\n",
    "list1.sort(reverse = True)\n",
    "print(list1)"
   ]
  },
  {
   "cell_type": "code",
   "execution_count": 1,
   "id": "194b99d7-1866-4d20-83dd-b0e90ddc4ad0",
   "metadata": {},
   "outputs": [
    {
     "name": "stdout",
     "output_type": "stream",
     "text": [
      "['Siva', 'Naga', 'Raju', 'Bhanu', 'Swami', 'Bala', 'Anu']\n",
      "['Siva', 'Naga', 'Raju', 'Bhanu', 'Swami', 'Bala', 'Anu']\n",
      "['Anu', 'Bala', 'Bhanu', 'Naga', 'Raju', 'Siva', 'Swami']\n"
     ]
    }
   ],
   "source": [
    "# Sorting a List Temporarly \n",
    "# The sorted() method\n",
    "list1 = []\n",
    "list1.append(\"Siva\")\n",
    "list1.append(\"Naga\")\n",
    "list1.append(\"Raju\")\n",
    "list1.append(\"Bhanu\")\n",
    "list1.append(\"Swami\")\n",
    "list1.append(\"Bala\")\n",
    "list1.append(\"Anu\")\n",
    "print(list1)\n",
    "sorted_list = sorted(list1)\n",
    "print(list1)\n",
    "print(sorted_list)"
   ]
  },
  {
   "cell_type": "code",
   "execution_count": 2,
   "id": "42771826-f2de-4c1f-b8b6-4a4ab813f856",
   "metadata": {},
   "outputs": [
    {
     "name": "stdout",
     "output_type": "stream",
     "text": [
      "['Siva', 'Naga', 'Raju', 'Bhanu', 'Swami', 'Bala', 'Anu']\n",
      "['Swami', 'Siva', 'Raju', 'Naga', 'Bhanu', 'Bala', 'Anu']\n"
     ]
    }
   ],
   "source": [
    "Rsorted_list = sorted(list1, reverse = True)\n",
    "print(list1)\n",
    "print(Rsorted_list)"
   ]
  },
  {
   "cell_type": "code",
   "execution_count": 4,
   "id": "d45037d8-e0c3-49a8-aa17-e5df230a15b9",
   "metadata": {},
   "outputs": [
    {
     "name": "stdout",
     "output_type": "stream",
     "text": [
      "['Anu', 'Bala', 'Swami', 'Bhanu', 'Raju', 'Naga', 'Siva']\n",
      "['Siva', 'Naga', 'Raju', 'Bhanu', 'Swami', 'Bala', 'Anu']\n"
     ]
    }
   ],
   "source": [
    "# The reverse() method\n",
    "print(list1)\n",
    "list1.reverse()\n",
    "print(list1)"
   ]
  },
  {
   "cell_type": "markdown",
   "id": "93f9e97d-0a9f-4775-a938-7134ddc5ca05",
   "metadata": {},
   "source": [
    "# **Working With Lists**"
   ]
  },
  {
   "cell_type": "markdown",
   "id": "eaf780cc-c16f-4e08-8092-177d76c0e5f3",
   "metadata": {},
   "source": [
    "**1. Python's For-Loop**"
   ]
  },
  {
   "cell_type": "code",
   "execution_count": 1,
   "id": "0bc23e5f-70f9-4745-886a-72b33e592897",
   "metadata": {},
   "outputs": [
    {
     "name": "stdout",
     "output_type": "stream",
     "text": [
      "Andrew\n",
      "David\n",
      "Bala\n",
      "Siva\n",
      "Krishna\n",
      "Gopal\n",
      "Vishnu\n",
      "Murari\n"
     ]
    }
   ],
   "source": [
    "# Python's for loop is mainly used to itterate through a list of items.\n",
    "magicians = [\"Andrew\", \"David\", \"Bala\", \"Siva\", \"Krishna\", \"Gopal\", \"Vishnu\", \"Murari\"]\n",
    "for magician in magicians:\n",
    "    print(magician)"
   ]
  },
  {
   "cell_type": "code",
   "execution_count": 6,
   "id": "076d2df4-9f66-4663-a159-35a8b58a309f",
   "metadata": {},
   "outputs": [
    {
     "name": "stdout",
     "output_type": "stream",
     "text": [
      "Andrew, That was a Great Trick\n",
      "David, That was a Great Trick\n",
      "Bala, That was a Great Trick\n",
      "Siva, That was a Great Trick\n",
      "Krishna, That was a Great Trick\n",
      "Gopal, That was a Great Trick\n",
      "Vishnu, That was a Great Trick\n",
      "Murari, That was a Great Trick\n"
     ]
    }
   ],
   "source": [
    "for magician in magicians:\n",
    "    print(f\"{magician.title()}, That was a Great Trick\")"
   ]
  },
  {
   "cell_type": "code",
   "execution_count": 10,
   "id": "34fb5231-7ec3-4969-ad9c-9f66063d4eda",
   "metadata": {},
   "outputs": [
    {
     "name": "stdout",
     "output_type": "stream",
     "text": [
      "Andrew, That was a Great Trick\n",
      "I can't wait to see your next Trick, Andrew\n",
      "\n",
      "David, That was a Great Trick\n",
      "I can't wait to see your next Trick, David\n",
      "\n",
      "Bala, That was a Great Trick\n",
      "I can't wait to see your next Trick, Bala\n",
      "\n",
      "Siva, That was a Great Trick\n",
      "I can't wait to see your next Trick, Siva\n",
      "\n",
      "Krishna, That was a Great Trick\n",
      "I can't wait to see your next Trick, Krishna\n",
      "\n",
      "Gopal, That was a Great Trick\n",
      "I can't wait to see your next Trick, Gopal\n",
      "\n",
      "Vishnu, That was a Great Trick\n",
      "I can't wait to see your next Trick, Vishnu\n",
      "\n",
      "Murari, That was a Great Trick\n",
      "I can't wait to see your next Trick, Murari\n",
      "\n"
     ]
    }
   ],
   "source": [
    "for magician in magicians:\n",
    "    print(f\"{magician.title()}, That was a Great Trick\")\n",
    "    print(f\"I can't wait to see your next Trick, {magician.title()}\")\n",
    "    print() # just to seperate each message."
   ]
  },
  {
   "cell_type": "code",
   "execution_count": 12,
   "id": "3cb4eb2d-d284-4dad-a17d-96bb83750e20",
   "metadata": {},
   "outputs": [
    {
     "name": "stdout",
     "output_type": "stream",
     "text": [
      "Andrew, That was a Great Trick\n",
      "I can't wait to see your next Trick, Andrew\n",
      "\n",
      "David, That was a Great Trick\n",
      "I can't wait to see your next Trick, David\n",
      "\n",
      "Bala, That was a Great Trick\n",
      "I can't wait to see your next Trick, Bala\n",
      "\n",
      "Siva, That was a Great Trick\n",
      "I can't wait to see your next Trick, Siva\n",
      "\n",
      "Krishna, That was a Great Trick\n",
      "I can't wait to see your next Trick, Krishna\n",
      "\n",
      "Gopal, That was a Great Trick\n",
      "I can't wait to see your next Trick, Gopal\n",
      "\n",
      "Vishnu, That was a Great Trick\n",
      "I can't wait to see your next Trick, Vishnu\n",
      "\n",
      "Murari, That was a Great Trick\n",
      "I can't wait to see your next Trick, Murari\n",
      "\n",
      "Thank You All\n"
     ]
    }
   ],
   "source": [
    "for magician in magicians:\n",
    "    print(f\"{magician.title()}, That was a Great Trick\")\n",
    "    print(f\"I can't wait to see your next Trick, {magician.title()}\")\n",
    "    print()\n",
    "\n",
    "print(\"Thank You All\") # This line Will be printed only once"
   ]
  },
  {
   "cell_type": "markdown",
   "id": "791a5f32-407c-4e8e-8388-a609877b2da9",
   "metadata": {},
   "source": [
    "**2. Making Numerical Lists**"
   ]
  },
  {
   "cell_type": "code",
   "execution_count": 13,
   "id": "ff669f0c-6a51-4ff0-8410-3c3e81a550e4",
   "metadata": {},
   "outputs": [
    {
     "name": "stdout",
     "output_type": "stream",
     "text": [
      "1\n",
      "2\n",
      "3\n",
      "4\n"
     ]
    }
   ],
   "source": [
    "for value in range(1,5):\n",
    "    print(value)"
   ]
  },
  {
   "cell_type": "code",
   "execution_count": 14,
   "id": "08bf6737-3f60-4883-8940-2313f17d2ed6",
   "metadata": {},
   "outputs": [
    {
     "name": "stdout",
     "output_type": "stream",
     "text": [
      "0\n",
      "1\n",
      "2\n",
      "3\n",
      "4\n"
     ]
    }
   ],
   "source": [
    "for value in range(5):\n",
    "    print(value)"
   ]
  },
  {
   "cell_type": "code",
   "execution_count": 15,
   "id": "53459816-31bd-41ba-b37f-279d15d94ef8",
   "metadata": {},
   "outputs": [
    {
     "name": "stdout",
     "output_type": "stream",
     "text": [
      "0\n",
      "2\n",
      "4\n"
     ]
    }
   ],
   "source": [
    "for value in range(0, 5, 2):\n",
    "    print(value)"
   ]
  },
  {
   "cell_type": "code",
   "execution_count": 17,
   "id": "6703a371-96bc-4aeb-913c-5704aeaf864c",
   "metadata": {},
   "outputs": [
    {
     "name": "stdout",
     "output_type": "stream",
     "text": [
      "0\n",
      "3\n",
      "6\n",
      "9\n",
      "12\n",
      "15\n",
      "18\n"
     ]
    }
   ],
   "source": [
    "for value in range(0, 20, 3):\n",
    "    print(value)"
   ]
  },
  {
   "cell_type": "code",
   "execution_count": 18,
   "id": "527069ac-4c39-4e30-a879-b9f8c52fc220",
   "metadata": {},
   "outputs": [
    {
     "name": "stdout",
     "output_type": "stream",
     "text": [
      "0\n",
      "1\n",
      "2\n",
      "3\n",
      "4\n",
      "4\n"
     ]
    }
   ],
   "source": [
    "for value in range(0, 5):\n",
    "    print(value)\n",
    "\n",
    "print(value)"
   ]
  },
  {
   "cell_type": "code",
   "execution_count": 19,
   "id": "5c1ed415-0fc3-44c9-abfe-2c8ffcb1c3e0",
   "metadata": {},
   "outputs": [],
   "source": [
    "# The List Function.\n",
    "numbers = list(range(1, 6))"
   ]
  },
  {
   "cell_type": "code",
   "execution_count": 20,
   "id": "098e0a40-d8c6-47ae-a954-fb61035b8443",
   "metadata": {},
   "outputs": [
    {
     "name": "stdout",
     "output_type": "stream",
     "text": [
      "[1, 2, 3, 4, 5]\n"
     ]
    }
   ],
   "source": [
    "print(numbers)"
   ]
  },
  {
   "cell_type": "code",
   "execution_count": 21,
   "id": "39786982-864f-4fa6-8c08-7e5485762ea1",
   "metadata": {},
   "outputs": [
    {
     "name": "stdout",
     "output_type": "stream",
     "text": [
      "2\n",
      "4\n",
      "6\n",
      "8\n",
      "10\n"
     ]
    }
   ],
   "source": [
    "even_numbers = list(range(2, 11, 2))\n",
    "for number in even_numbers:\n",
    "    print(number)"
   ]
  },
  {
   "cell_type": "code",
   "execution_count": 1,
   "id": "9ff0645b-3839-47f6-9c8a-994729171f89",
   "metadata": {},
   "outputs": [],
   "source": [
    "squares = []\n",
    "for value in range(1, 11):\n",
    "    square = value ** 2\n",
    "    squares.append(square)"
   ]
  },
  {
   "cell_type": "code",
   "execution_count": 2,
   "id": "6837a40c-b4da-40dc-9205-989f3b40699c",
   "metadata": {},
   "outputs": [
    {
     "name": "stdout",
     "output_type": "stream",
     "text": [
      "[1, 4, 9, 16, 25, 36, 49, 64, 81, 100]\n"
     ]
    }
   ],
   "source": [
    "print(squares)"
   ]
  },
  {
   "cell_type": "code",
   "execution_count": 5,
   "id": "3fdf3438-3bc6-4ef0-93d2-5b9e84c7b573",
   "metadata": {},
   "outputs": [
    {
     "name": "stdout",
     "output_type": "stream",
     "text": [
      "[1, 4, 9, 16, 25, 36, 49, 64, 81, 100]\n"
     ]
    }
   ],
   "source": [
    "squares = []\n",
    "for square in range(1, 11):\n",
    "    squares.append(square ** 2)\n",
    "\n",
    "print(squares)"
   ]
  },
  {
   "cell_type": "code",
   "execution_count": 2,
   "id": "c676f3b4-deba-4c7e-8613-84d03709d7f7",
   "metadata": {},
   "outputs": [
    {
     "name": "stdout",
     "output_type": "stream",
     "text": [
      "0\n",
      "50\n",
      "185\n"
     ]
    }
   ],
   "source": [
    "# Simple Statics\n",
    "list = [10, 20, 30, 40, 50, 5, 6, 7, 8, 9, 0]\n",
    "print(min(list))\n",
    "print(max(list))\n",
    "print(sum(list))"
   ]
  },
  {
   "cell_type": "markdown",
   "id": "748211e4-57be-48ee-98f1-c2696d156305",
   "metadata": {},
   "source": [
    "**3. List Comprehensions**"
   ]
  },
  {
   "cell_type": "code",
   "execution_count": 3,
   "id": "302bf929-26ad-43e6-a361-4b16ac4544a8",
   "metadata": {},
   "outputs": [
    {
     "name": "stdout",
     "output_type": "stream",
     "text": [
      "[1, 4, 9, 16, 25, 36, 49, 64, 81, 100]\n"
     ]
    }
   ],
   "source": [
    "squares = [value ** 2 for value in range(1, 11)]\n",
    "print(squares)"
   ]
  },
  {
   "cell_type": "code",
   "execution_count": 4,
   "id": "b5b174e4-88d4-4fb3-89c4-b600cad9645b",
   "metadata": {},
   "outputs": [
    {
     "name": "stdout",
     "output_type": "stream",
     "text": [
      "[10, 11, 12, 13, 14, 15, 16, 17, 18, 19]\n"
     ]
    }
   ],
   "source": [
    "sums = [value + 10 for value in range(10)]\n",
    "print(sums)"
   ]
  },
  {
   "cell_type": "code",
   "execution_count": 6,
   "id": "727ce40b-16f6-4f51-942d-e531c17e2dcd",
   "metadata": {},
   "outputs": [
    {
     "name": "stdout",
     "output_type": "stream",
     "text": [
      "<generator object <genexpr> at 0x0000022D4546A260>\n"
     ]
    }
   ],
   "source": [
    "print(value ** 2 for value in range(1, 11))"
   ]
  },
  {
   "cell_type": "markdown",
   "id": "bb7f6b2e-719c-421e-9b31-c238b8b06925",
   "metadata": {},
   "source": [
    "**4 Working With Part of a List**"
   ]
  },
  {
   "cell_type": "code",
   "execution_count": 3,
   "id": "c1f58ccc-24fb-4227-a47b-e6a17108fd59",
   "metadata": {},
   "outputs": [
    {
     "data": {
      "text/plain": [
       "['Andrew', 'David', 'Bala']"
      ]
     },
     "execution_count": 3,
     "metadata": {},
     "output_type": "execute_result"
    }
   ],
   "source": [
    "# Slicing a list can be done by specifying from and to(excluding) indexes in the square brackets\n",
    "magicians[0:3]"
   ]
  },
  {
   "cell_type": "code",
   "execution_count": 4,
   "id": "a7c4c65b-9a25-4412-8b46-2c7af8cfa6a4",
   "metadata": {},
   "outputs": [
    {
     "data": {
      "text/plain": [
       "['Andrew', 'David', 'Bala', 'Siva', 'Krishna', 'Gopal', 'Vishnu', 'Murari']"
      ]
     },
     "execution_count": 4,
     "metadata": {},
     "output_type": "execute_result"
    }
   ],
   "source": [
    "magicians[0:]"
   ]
  },
  {
   "cell_type": "code",
   "execution_count": 5,
   "id": "4f94b5cd-0d4f-44ff-84f4-59254f02dab1",
   "metadata": {},
   "outputs": [
    {
     "data": {
      "text/plain": [
       "['Bala', 'Siva', 'Krishna', 'Gopal', 'Vishnu', 'Murari']"
      ]
     },
     "execution_count": 5,
     "metadata": {},
     "output_type": "execute_result"
    }
   ],
   "source": [
    "magicians[2:]"
   ]
  },
  {
   "cell_type": "code",
   "execution_count": 6,
   "id": "17bd953b-87b0-4dfa-b257-f68c2d524c9f",
   "metadata": {},
   "outputs": [
    {
     "data": {
      "text/plain": [
       "['Andrew', 'David', 'Bala', 'Siva']"
      ]
     },
     "execution_count": 6,
     "metadata": {},
     "output_type": "execute_result"
    }
   ],
   "source": [
    "magicians[:4]"
   ]
  },
  {
   "cell_type": "code",
   "execution_count": 7,
   "id": "c02e3d20-65a8-4e51-8632-d311e128cfd9",
   "metadata": {},
   "outputs": [
    {
     "data": {
      "text/plain": [
       "'Murari'"
      ]
     },
     "execution_count": 7,
     "metadata": {},
     "output_type": "execute_result"
    }
   ],
   "source": [
    "magicians[-1]"
   ]
  },
  {
   "cell_type": "code",
   "execution_count": 8,
   "id": "374ad674-7c96-4a15-a660-dd38476cf124",
   "metadata": {},
   "outputs": [
    {
     "data": {
      "text/plain": [
       "['Andrew', 'David', 'Bala', 'Siva', 'Krishna', 'Gopal', 'Vishnu']"
      ]
     },
     "execution_count": 8,
     "metadata": {},
     "output_type": "execute_result"
    }
   ],
   "source": [
    "magicians[:-1]"
   ]
  },
  {
   "cell_type": "code",
   "execution_count": 9,
   "id": "ada71b96-ded6-4279-a921-0c4c603b400e",
   "metadata": {},
   "outputs": [
    {
     "data": {
      "text/plain": [
       "['Murari']"
      ]
     },
     "execution_count": 9,
     "metadata": {},
     "output_type": "execute_result"
    }
   ],
   "source": [
    "magicians[-1:]"
   ]
  },
  {
   "cell_type": "code",
   "execution_count": 10,
   "id": "bebebc69-b8d4-4bae-b901-5559a0201003",
   "metadata": {},
   "outputs": [
    {
     "data": {
      "text/plain": [
       "['David', 'Siva', 'Gopal']"
      ]
     },
     "execution_count": 10,
     "metadata": {},
     "output_type": "execute_result"
    }
   ],
   "source": [
    "magicians[1:-1:2]"
   ]
  },
  {
   "cell_type": "code",
   "execution_count": 11,
   "id": "3c06b854-87a7-428a-a183-2b41f0f9ab57",
   "metadata": {},
   "outputs": [
    {
     "data": {
      "text/plain": [
       "['Andrew', 'Bala', 'Krishna', 'Vishnu']"
      ]
     },
     "execution_count": 11,
     "metadata": {},
     "output_type": "execute_result"
    }
   ],
   "source": [
    "magicians[0::2]"
   ]
  },
  {
   "cell_type": "code",
   "execution_count": 12,
   "id": "bc750f4a-b841-4129-8c6b-485584a3797a",
   "metadata": {},
   "outputs": [
    {
     "data": {
      "text/plain": [
       "['Murari', 'Vishnu', 'Gopal', 'Krishna', 'Siva', 'Bala', 'David', 'Andrew']"
      ]
     },
     "execution_count": 12,
     "metadata": {},
     "output_type": "execute_result"
    }
   ],
   "source": [
    "magicians[::-1]"
   ]
  },
  {
   "cell_type": "code",
   "execution_count": 15,
   "id": "550a55b3-e30f-4cec-9f31-bc63fd0c43f9",
   "metadata": {},
   "outputs": [
    {
     "name": "stdout",
     "output_type": "stream",
     "text": [
      "['s', 'i', 'v', 'a', 'n', 'a', 'g', 'a', 'r', 'a', 'j', 'u']\n"
     ]
    }
   ],
   "source": [
    "x = \"sivanagaraju\"\n",
    "a = list(x)\n",
    "print(a)"
   ]
  },
  {
   "cell_type": "code",
   "execution_count": 16,
   "id": "b17a7f1e-8429-4a88-bb23-5bd7289c6944",
   "metadata": {},
   "outputs": [
    {
     "name": "stdout",
     "output_type": "stream",
     "text": [
      "['s', 'i', 'v', 'a', 'n', 'a', 'g', 'a', 'r', 'a', 'j', 'u']\n"
     ]
    }
   ],
   "source": [
    "b = [*x]\n",
    "print(b)"
   ]
  },
  {
   "cell_type": "code",
   "execution_count": 17,
   "id": "9cc79253-2959-402d-a88b-77e0a52df4dc",
   "metadata": {},
   "outputs": [
    {
     "name": "stdout",
     "output_type": "stream",
     "text": [
      "['s', 'i', 'v', 'a', 'n', 'a', 'g', 'a', 'r', 'a', 'j', 'u']\n"
     ]
    }
   ],
   "source": [
    "c = []\n",
    "for letter in x:\n",
    "    c.append(letter)\n",
    "print(c)"
   ]
  },
  {
   "cell_type": "code",
   "execution_count": 18,
   "id": "9d75b11f-5be8-4d5f-a898-880268980275",
   "metadata": {},
   "outputs": [
    {
     "name": "stdout",
     "output_type": "stream",
     "text": [
      "['u', 'j', 'a', 'r', 'a', 'g', 'a', 'n', 'a', 'v', 'i', 's']\n"
     ]
    }
   ],
   "source": [
    "rev = a[::-1]\n",
    "print(rev)"
   ]
  },
  {
   "cell_type": "markdown",
   "id": "90681ebd-3338-4241-812a-6e342f9a3d3d",
   "metadata": {},
   "source": [
    "## Tuples"
   ]
  },
  {
   "cell_type": "code",
   "execution_count": 21,
   "id": "d4c4b838-19b7-4b9b-b04e-351ecf088aa0",
   "metadata": {},
   "outputs": [],
   "source": [
    "#Tuples are technically defined by the presence of a comma; the parentheses make them \n",
    "#look neater and more readable\n",
    "\n",
    "tup = 2,3,4,5,6"
   ]
  },
  {
   "cell_type": "code",
   "execution_count": 25,
   "id": "3ab4cf48-511f-492e-b054-9475445408bb",
   "metadata": {},
   "outputs": [
    {
     "name": "stdout",
     "output_type": "stream",
     "text": [
      "(2, 3, 4, 5, 6)\n"
     ]
    }
   ],
   "source": [
    "print(tup)"
   ]
  },
  {
   "cell_type": "code",
   "execution_count": 29,
   "id": "7d487057-9cde-47e0-bc40-1d44cb962037",
   "metadata": {},
   "outputs": [],
   "source": [
    "tup = tuple(list(range(0,10)))"
   ]
  },
  {
   "cell_type": "code",
   "execution_count": 30,
   "id": "825069ca-a688-485e-9855-387307c70f6e",
   "metadata": {},
   "outputs": [
    {
     "name": "stdout",
     "output_type": "stream",
     "text": [
      "(0, 1, 2, 3, 4, 5, 6, 7, 8, 9)\n"
     ]
    }
   ],
   "source": [
    "print(tup)"
   ]
  },
  {
   "cell_type": "code",
   "execution_count": 31,
   "id": "1ed921ba-1925-44ae-8b23-37b275e8f412",
   "metadata": {},
   "outputs": [
    {
     "name": "stdout",
     "output_type": "stream",
     "text": [
      "(100, 200, 300, 400, 500, 600, 700, 800)\n"
     ]
    }
   ],
   "source": [
    "tup = (100, 200, 300, 400, 500, 600, 700, 800)\n",
    "print(tup)"
   ]
  },
  {
   "cell_type": "code",
   "execution_count": 32,
   "id": "745a9cf2-db3d-4cb7-b981-560bf9124991",
   "metadata": {},
   "outputs": [
    {
     "name": "stdout",
     "output_type": "stream",
     "text": [
      "100\n",
      "200\n",
      "300\n",
      "400\n",
      "500\n",
      "600\n",
      "700\n",
      "800\n"
     ]
    }
   ],
   "source": [
    "for x in tup:\n",
    "    print(x)"
   ]
  }
 ],
 "metadata": {
  "kernelspec": {
   "display_name": "Python 3 (ipykernel)",
   "language": "python",
   "name": "python3"
  },
  "language_info": {
   "codemirror_mode": {
    "name": "ipython",
    "version": 3
   },
   "file_extension": ".py",
   "mimetype": "text/x-python",
   "name": "python",
   "nbconvert_exporter": "python",
   "pygments_lexer": "ipython3",
   "version": "3.12.1"
  }
 },
 "nbformat": 4,
 "nbformat_minor": 5
}
